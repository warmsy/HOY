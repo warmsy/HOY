{
 "cells": [
  {
   "cell_type": "code",
   "execution_count": 1,
   "metadata": {},
   "outputs": [
    {
     "name": "stderr",
     "output_type": "stream",
     "text": [
      "Cloning into 'yolov5'...\n"
     ]
    }
   ],
   "source": [
    "!git clone https://github.com/ultralytics/yolov5"
   ]
  },
  {
   "cell_type": "code",
   "execution_count": 8,
   "metadata": {},
   "outputs": [],
   "source": [
    "import numpy\n",
    "import requests"
   ]
  },
  {
   "cell_type": "code",
   "execution_count": 12,
   "metadata": {},
   "outputs": [
    {
     "name": "stdout",
     "output_type": "stream",
     "text": [
      "Collecting numpy\n",
      "  Using cached numpy-1.19.5-cp36-cp36m-win_amd64.whl (13.2 MB)\n",
      "Installing collected packages: numpy\n"
     ]
    },
    {
     "name": "stderr",
     "output_type": "stream",
     "text": [
      "ERROR: Could not install packages due to an OSError: [WinError 5] 액세스가 거부되었습니다: 'C:\\\\Users\\\\bigdata02\\\\anaconda3\\\\envs\\\\yoloV5\\\\Lib\\\\site-packages\\\\numpy\\\\core\\\\_multiarray_tests.cp36-win_amd64.pyd'\n",
      "Consider using the `--user` option or check the permissions.\n",
      "\n"
     ]
    }
   ],
   "source": [
    "!pip install numpy --upgrade --ignore-installed "
   ]
  },
  {
   "cell_type": "code",
   "execution_count": 14,
   "metadata": {},
   "outputs": [
    {
     "name": "stdout",
     "output_type": "stream",
     "text": [
      "^C\n"
     ]
    }
   ],
   "source": [
    "!pip uninstall numpy"
   ]
  },
  {
   "cell_type": "code",
   "execution_count": 13,
   "metadata": {},
   "outputs": [
    {
     "name": "stdout",
     "output_type": "stream",
     "text": [
      "1.16.6\n"
     ]
    }
   ],
   "source": [
    "print(numpy.__version__)"
   ]
  },
  {
   "cell_type": "code",
   "execution_count": 2,
   "metadata": {},
   "outputs": [
    {
     "name": "stderr",
     "output_type": "stream",
     "text": [
      "Using cache found in C:\\Users\\bigdata02/.cache\\torch\\hub\\ultralytics_yolov5_master\n",
      "YOLOv5  2021-10-8 torch 1.9.1 CUDA:0 (GeForce RTX 2070, 8192.0MB)\n",
      "\n",
      "Fusing layers... \n",
      "Model Summary: 290 layers, 21172173 parameters, 0 gradients, 49.0 GFLOPs\n",
      "Adding AutoShape... \n",
      "image 1/1: 4032x3024 1 book\n",
      "Speed: 197.7ms pre-process, 14.0ms inference, 6.0ms NMS per image at shape (1, 3, 640, 480)\n"
     ]
    }
   ],
   "source": [
    "import cv2\n",
    "import torch\n",
    "\n",
    "model = torch.hub.load('ultralytics/yolov5', 'yolov5m')\n",
    "\n",
    "img_path = 'static/photos/image.jpg'\n",
    "\n",
    "results = model(img_path)\n",
    "\n",
    "results.print()"
   ]
  },
  {
   "cell_type": "code",
   "execution_count": 20,
   "metadata": {},
   "outputs": [
    {
     "data": {
      "text/plain": [
       "<models.common.Detections at 0x1eea79ff978>"
      ]
     },
     "execution_count": 20,
     "metadata": {},
     "output_type": "execute_result"
    }
   ],
   "source": [
    "results"
   ]
  },
  {
   "cell_type": "code",
   "execution_count": 25,
   "metadata": {},
   "outputs": [],
   "source": [
    "results.show()"
   ]
  },
  {
   "cell_type": "code",
   "execution_count": 28,
   "metadata": {},
   "outputs": [
    {
     "name": "stderr",
     "output_type": "stream",
     "text": [
      "Saved 1 image to \u001b[1mC:\\Users\\bigdata02\\git\\CESCO\\HOY\\src\\main\\webapp\\resources\\img\u001b[0m\n"
     ]
    }
   ],
   "source": [
    "results.save('C:\\\\Users\\\\bigdata02\\\\git\\\\CESCO\\\\HOY\\\\src\\\\main\\\\webapp\\\\resources\\\\img')"
   ]
  },
  {
   "cell_type": "code",
   "execution_count": 8,
   "metadata": {},
   "outputs": [
    {
     "data": {
      "text/plain": [
       "[tensor([[ 13.12500, 144.92188, 673.75000, 601.56250,   0.82520,  13.00000]], device='cuda:0')]"
      ]
     },
     "execution_count": 8,
     "metadata": {},
     "output_type": "execute_result"
    }
   ],
   "source": [
    "results.pred"
   ]
  },
  {
   "cell_type": "code",
   "execution_count": 9,
   "metadata": {
    "scrolled": true
   },
   "outputs": [
    {
     "data": {
      "text/plain": [
       "['person',\n",
       " 'bicycle',\n",
       " 'car',\n",
       " 'motorcycle',\n",
       " 'airplane',\n",
       " 'bus',\n",
       " 'train',\n",
       " 'truck',\n",
       " 'boat',\n",
       " 'traffic light',\n",
       " 'fire hydrant',\n",
       " 'stop sign',\n",
       " 'parking meter',\n",
       " 'bench',\n",
       " 'bird',\n",
       " 'cat',\n",
       " 'dog',\n",
       " 'horse',\n",
       " 'sheep',\n",
       " 'cow',\n",
       " 'elephant',\n",
       " 'bear',\n",
       " 'zebra',\n",
       " 'giraffe',\n",
       " 'backpack',\n",
       " 'umbrella',\n",
       " 'handbag',\n",
       " 'tie',\n",
       " 'suitcase',\n",
       " 'frisbee',\n",
       " 'skis',\n",
       " 'snowboard',\n",
       " 'sports ball',\n",
       " 'kite',\n",
       " 'baseball bat',\n",
       " 'baseball glove',\n",
       " 'skateboard',\n",
       " 'surfboard',\n",
       " 'tennis racket',\n",
       " 'bottle',\n",
       " 'wine glass',\n",
       " 'cup',\n",
       " 'fork',\n",
       " 'knife',\n",
       " 'spoon',\n",
       " 'bowl',\n",
       " 'banana',\n",
       " 'apple',\n",
       " 'sandwich',\n",
       " 'orange',\n",
       " 'broccoli',\n",
       " 'carrot',\n",
       " 'hot dog',\n",
       " 'pizza',\n",
       " 'donut',\n",
       " 'cake',\n",
       " 'chair',\n",
       " 'couch',\n",
       " 'potted plant',\n",
       " 'bed',\n",
       " 'dining table',\n",
       " 'toilet',\n",
       " 'tv',\n",
       " 'laptop',\n",
       " 'mouse',\n",
       " 'remote',\n",
       " 'keyboard',\n",
       " 'cell phone',\n",
       " 'microwave',\n",
       " 'oven',\n",
       " 'toaster',\n",
       " 'sink',\n",
       " 'refrigerator',\n",
       " 'book',\n",
       " 'clock',\n",
       " 'vase',\n",
       " 'scissors',\n",
       " 'teddy bear',\n",
       " 'hair drier',\n",
       " 'toothbrush']"
      ]
     },
     "execution_count": 9,
     "metadata": {},
     "output_type": "execute_result"
    }
   ],
   "source": [
    "results.names"
   ]
  },
  {
   "cell_type": "code",
   "execution_count": 15,
   "metadata": {},
   "outputs": [
    {
     "data": {
      "text/plain": [
       "'bench'"
      ]
     },
     "execution_count": 15,
     "metadata": {},
     "output_type": "execute_result"
    }
   ],
   "source": [
    "results.names[int(results.pred[0][0][-1])]"
   ]
  },
  {
   "cell_type": "code",
   "execution_count": 13,
   "metadata": {},
   "outputs": [
    {
     "ename": "NameError",
     "evalue": "name 'pred' is not defined",
     "output_type": "error",
     "traceback": [
      "\u001b[1;31m---------------------------------------------------------------------------\u001b[0m",
      "\u001b[1;31mNameError\u001b[0m                                 Traceback (most recent call last)",
      "\u001b[1;32m<ipython-input-13-44462464bcf7>\u001b[0m in \u001b[0;36m<module>\u001b[1;34m\u001b[0m\n\u001b[1;32m----> 1\u001b[1;33m \u001b[0mtag\u001b[0m \u001b[1;33m=\u001b[0m \u001b[0mresults\u001b[0m\u001b[1;33m.\u001b[0m\u001b[0mnames\u001b[0m\u001b[1;33m[\u001b[0m\u001b[0mint\u001b[0m\u001b[1;33m(\u001b[0m\u001b[0mpred\u001b[0m\u001b[1;33m[\u001b[0m\u001b[1;33m-\u001b[0m\u001b[1;36m1\u001b[0m\u001b[1;33m]\u001b[0m\u001b[1;33m)\u001b[0m\u001b[1;33m]\u001b[0m\u001b[1;33m\u001b[0m\u001b[1;33m\u001b[0m\u001b[0m\n\u001b[0m",
      "\u001b[1;31mNameError\u001b[0m: name 'pred' is not defined"
     ]
    }
   ],
   "source": []
  },
  {
   "cell_type": "code",
   "execution_count": 16,
   "metadata": {},
   "outputs": [
    {
     "ename": "NameError",
     "evalue": "name 'tags' is not defined",
     "output_type": "error",
     "traceback": [
      "\u001b[1;31m---------------------------------------------------------------------------\u001b[0m",
      "\u001b[1;31mNameError\u001b[0m                                 Traceback (most recent call last)",
      "\u001b[1;32m<ipython-input-16-d10e1ef16c67>\u001b[0m in \u001b[0;36m<module>\u001b[1;34m\u001b[0m\n\u001b[1;32m----> 1\u001b[1;33m \u001b[1;32mif\u001b[0m \u001b[1;34m'bench'\u001b[0m \u001b[1;32min\u001b[0m \u001b[0mtags\u001b[0m\u001b[1;33m:\u001b[0m\u001b[1;33m\u001b[0m\u001b[1;33m\u001b[0m\u001b[0m\n\u001b[0m\u001b[0;32m      2\u001b[0m     \u001b[0mprint\u001b[0m\u001b[1;33m(\u001b[0m\u001b[1;34m'T'\u001b[0m\u001b[1;33m)\u001b[0m\u001b[1;33m\u001b[0m\u001b[1;33m\u001b[0m\u001b[0m\n\u001b[0;32m      3\u001b[0m         \u001b[1;31m#page = 'ch_ copy.html'\u001b[0m\u001b[1;33m\u001b[0m\u001b[1;33m\u001b[0m\u001b[1;33m\u001b[0m\u001b[0m\n\u001b[0;32m      4\u001b[0m \u001b[1;32melse\u001b[0m\u001b[1;33m:\u001b[0m\u001b[1;33m\u001b[0m\u001b[1;33m\u001b[0m\u001b[0m\n\u001b[0;32m      5\u001b[0m     \u001b[0mprint\u001b[0m\u001b[1;33m(\u001b[0m\u001b[1;34m'F'\u001b[0m\u001b[1;33m)\u001b[0m\u001b[1;33m\u001b[0m\u001b[1;33m\u001b[0m\u001b[0m\n",
      "\u001b[1;31mNameError\u001b[0m: name 'tags' is not defined"
     ]
    }
   ],
   "source": [
    "if 'bench' in tags:\n",
    "    print('T')\n",
    "        #page = 'ch_ copy.html'\n",
    "else:\n",
    "    print('F')\n",
    "        #page = 'ch_ copy 2.html'"
   ]
  },
  {
   "cell_type": "code",
   "execution_count": null,
   "metadata": {},
   "outputs": [],
   "source": []
  },
  {
   "cell_type": "code",
   "execution_count": 29,
   "metadata": {},
   "outputs": [
    {
     "name": "stdout",
     "output_type": "stream",
     "text": [
      "T\n"
     ]
    },
    {
     "data": {
      "text/plain": [
       "{'static/photos/image.jpg': ['bench']}"
      ]
     },
     "execution_count": 29,
     "metadata": {},
     "output_type": "execute_result"
    }
   ],
   "source": [
    "from glob import glob\n",
    "\n",
    "img_list = glob('static/photos/image.jpg') # *로 바꾸면 모두\n",
    "\n",
    "db = {}\n",
    "\n",
    "for img_path in img_list:\n",
    "    results = model(img_path)\n",
    "    \n",
    "    tags = set()\n",
    "    \n",
    "    for pred in results.pred[0]:\n",
    "        #tag = tags_ko[int(pred[-1])]\n",
    "        tag = results.names[int(pred[-1])]\n",
    "        tag = tag.replace(' ', '')\n",
    "        tags.add(tag)\n",
    "        \n",
    "    if 'bench' in tags:\n",
    "        print('T')\n",
    "        #page = 'ch_ copy.html'\n",
    "    else:\n",
    "        print('F')\n",
    "        #page = 'ch_ copy 2.html'\n",
    "        \n",
    "    db[img_path] = list(tags)\n",
    "db"
   ]
  },
  {
   "cell_type": "code",
   "execution_count": 22,
   "metadata": {},
   "outputs": [],
   "source": [
    "array=results.imgs"
   ]
  },
  {
   "cell_type": "code",
   "execution_count": null,
   "metadata": {},
   "outputs": [],
   "source": [
    "array=results.imgs\n",
    "cv2.imwrite('C:\\\\Users\\\\bigdata02\\\\git\\\\CESCO\\\\HOY\\\\src\\\\main\\\\webapp\\\\resources\\\\img\\\\result.jpg',array[0])"
   ]
  },
  {
   "cell_type": "code",
   "execution_count": null,
   "metadata": {},
   "outputs": [],
   "source": []
  },
  {
   "cell_type": "code",
   "execution_count": null,
   "metadata": {},
   "outputs": [],
   "source": []
  },
  {
   "cell_type": "code",
   "execution_count": null,
   "metadata": {},
   "outputs": [],
   "source": []
  },
  {
   "cell_type": "code",
   "execution_count": null,
   "metadata": {},
   "outputs": [],
   "source": []
  },
  {
   "cell_type": "code",
   "execution_count": null,
   "metadata": {},
   "outputs": [],
   "source": []
  },
  {
   "cell_type": "code",
   "execution_count": null,
   "metadata": {},
   "outputs": [],
   "source": []
  },
  {
   "cell_type": "code",
   "execution_count": 4,
   "metadata": {},
   "outputs": [
    {
     "name": "stdout",
     "output_type": "stream",
     "text": [
      "DB 연결 성공\n"
     ]
    }
   ],
   "source": [
    "import pymysql\n",
    "\n",
    "db = None\n",
    "\n",
    "try:\n",
    "    db = pymysql.connect(\n",
    "        host='project-db-stu.ddns.net',\n",
    "        port=3307,\n",
    "        user='com',\n",
    "        passwd='12345',\n",
    "        db='campus_E_3_1022',\n",
    "        charset='utf8'\n",
    "    )\n",
    "    print('DB 연결 성공')\n",
    "\n",
    "except Exception as e:\n",
    "    print(e) # db 연결 실패 시 오류 내용 출력"
   ]
  },
  {
   "cell_type": "code",
   "execution_count": 14,
   "metadata": {},
   "outputs": [
    {
     "name": "stdout",
     "output_type": "stream",
     "text": [
      "DB 연결 성공\n",
      "(1064, \"You have an error in your SQL syntax; check the manual that corresponds to your MySQL server version for the right syntax to use near ', 1, )' at line 2\")\n"
     ]
    }
   ],
   "source": [
    "import pymysql\n",
    "\n",
    "db = None\n",
    "\n",
    "try:\n",
    "    db = pymysql.connect(\n",
    "        host='project-db-stu.ddns.net',\n",
    "        port=3307,\n",
    "        user='com',\n",
    "        passwd='12345',\n",
    "        db='campus_E_3_1022',\n",
    "        charset='utf8'\n",
    "    )\n",
    "    print('DB 연결 성공')\n",
    "\n",
    "    with db.cursor(pymysql.cursors.DictCursor) as cursor:\n",
    "        sql = \"\"\"\n",
    "            INSERT INTO submissions(mc_seq, mb_id, sub_result, sub_img)\n",
    "            VALUES(1, , 1, );\n",
    "        \"\"\"\n",
    "        cursor.execute(sql)\n",
    "        db_results = cursor.fetchall()\n",
    "    print(db_results)\n",
    "    \n",
    "except Exception as e:\n",
    "    print(e) # db 연결 실패 시 오류 내용 출력\n",
    "\n",
    "#finally:\n",
    "#    if db is not None: # db가 연결된 경우에만 접속 닫기 시도\n",
    "#        db.close()\n",
    "#    print('DB 연결 닫기 성공')"
   ]
  },
  {
   "cell_type": "code",
   "execution_count": 15,
   "metadata": {},
   "outputs": [],
   "source": [
    "# 작업중\n",
    "\n",
    "def db_insert_ch(mb_id, mc_seq):\n",
    "    import pymysql\n",
    "\n",
    "    db = None\n",
    "    \n",
    "    global mbid\n",
    "    global mcseq\n",
    "\n",
    "    try:\n",
    "        db = pymysql.connect(\n",
    "            host='project-db-stu.ddns.net',\n",
    "            port=3307,\n",
    "            user='com',\n",
    "            passwd='12345',\n",
    "            db='campus_E_3_1022',\n",
    "            charset='utf8'\n",
    "        )\n",
    "        print('DB 연결 성공')\n",
    "\n",
    "        with db.cursor(pymysql.cursors.DictCursor) as cursor:\n",
    "            sql = '''\n",
    "                update into submissions(mc_seq, mb_id, sub_result, sub_img) values({}, '{}',1, '{}_{}.jpg')\n",
    "                '''.format(mc_seq, mb_id, mc_seq, mb_id)\n",
    "            cursor.execute(sql)\n",
    "            db.commit()\n",
    "            print('감정종류 입력 완료')\n",
    "        #print(db_results)\n",
    "\n",
    "    except Exception as e:\n",
    "        print(e) # db 연결 실패 시 오류 내용 출력\n",
    "\n",
    "    finally:\n",
    "        if db is not None: # db가 연결된 경우에만 접속 닫기 시도\n",
    "            db.close()\n",
    "        print('DB 연결 닫기 성공')"
   ]
  },
  {
   "cell_type": "code",
   "execution_count": 24,
   "metadata": {},
   "outputs": [
    {
     "name": "stdout",
     "output_type": "stream",
     "text": [
      "Looking in links: orced-reinstall\n",
      "Requirement already satisfied: flask_cors in c:\\users\\bigdata02\\anaconda3\\lib\\site-packages (3.0.10)\n",
      "Requirement already satisfied: Flask>=0.9 in c:\\users\\bigdata02\\anaconda3\\lib\\site-packages (from flask_cors) (1.1.2)\n",
      "Requirement already satisfied: Six in c:\\users\\bigdata02\\anaconda3\\lib\\site-packages (from flask_cors) (1.12.0)\n",
      "Requirement already satisfied: click>=5.1 in c:\\users\\bigdata02\\anaconda3\\lib\\site-packages (from Flask>=0.9->flask_cors) (7.1.2)\n",
      "Requirement already satisfied: Jinja2>=2.10.1 in c:\\users\\bigdata02\\anaconda3\\lib\\site-packages (from Flask>=0.9->flask_cors) (2.11.2)\n",
      "Requirement already satisfied: itsdangerous>=0.24 in c:\\users\\bigdata02\\anaconda3\\lib\\site-packages (from Flask>=0.9->flask_cors) (1.1.0)\n",
      "Requirement already satisfied: Werkzeug>=0.15 in c:\\users\\bigdata02\\anaconda3\\lib\\site-packages (from Flask>=0.9->flask_cors) (1.0.1)\n",
      "Requirement already satisfied: MarkupSafe>=0.23 in c:\\users\\bigdata02\\anaconda3\\lib\\site-packages (from Jinja2>=2.10.1->Flask>=0.9->flask_cors) (1.1.1)\n"
     ]
    }
   ],
   "source": [
    "!pip install flask_cors -forced-reinstall"
   ]
  },
  {
   "cell_type": "code",
   "execution_count": 1,
   "metadata": {
    "scrolled": true
   },
   "outputs": [
    {
     "name": "stdout",
     "output_type": "stream",
     "text": [
      "__main__\n",
      " * Serving Flask app '__main__' (lazy loading)\n",
      " * Environment: production\n",
      "\u001b[31m   WARNING: This is a development server. Do not use it in a production deployment.\u001b[0m\n",
      "\u001b[2m   Use a production WSGI server instead.\u001b[0m\n",
      " * Debug mode: off\n"
     ]
    },
    {
     "name": "stderr",
     "output_type": "stream",
     "text": [
      " * Running on http://127.0.0.1:5000/ (Press CTRL+C to quit)\n"
     ]
    }
   ],
   "source": [
    "from flask import Flask, render_template, request\n",
    "from flask_cors import CORS\n",
    "import urllib.request\n",
    "\n",
    "\n",
    "\n",
    "app = Flask(__name__)\n",
    "CORS(app)\n",
    "print(__name__)\n",
    "global page\n",
    "global tags\n",
    "mbid = None\n",
    "\n",
    "@app.route(\"/hereFlask\", methods=['POST'])\n",
    "def hereFlask():\n",
    "    data = request.form\n",
    "    global mbid\n",
    "    mbid = data['mbid']\n",
    "    print(mbid)\n",
    "    return mbid\n",
    "\n",
    "@app.route(\"/tospring\")\n",
    "def spring():\n",
    "    \n",
    "    import cv2\n",
    "    import torch\n",
    "\n",
    "    model = torch.hub.load('ultralytics/yolov5', 'yolov5m')\n",
    "\n",
    "    img_path = 'static/photos/image.jpg'\n",
    "\n",
    "    results = model(img_path)\n",
    "\n",
    "    db_data = {}\n",
    "    \n",
    "    results.save('C:\\\\Users\\\\bigdata02\\\\git\\\\CESCO\\\\HOY\\\\src\\\\main\\\\webapp\\\\resources\\\\img')\n",
    "#     array=results.imgs\n",
    "#     cv2.imwrite('C:\\\\Users\\\\bigdata02\\\\git\\\\CESCO\\\\HOY\\\\src\\\\main\\\\webapp\\\\resources\\\\img\\\\result.jpg',array[0])\n",
    "    # \\\\이걸로 하세용.. 'C:\\\\Users\\\\bigdata02\\\\git\\\\CESCO\\\\HOY\\\\src\\\\main\\\\webapp\\\\resources\\\\img\\\\result.jpg'\n",
    "    # C:\\Users\\bigdata02\\git\\CESCO\\HOY\\src\\main\\webapp\\resources\\img -> 컴퓨터에서 복사한 주소\n",
    "    \n",
    "    tags = set()\n",
    "    \n",
    "    for pred in results.pred[0]:\n",
    "        #tag = tags_ko[int(pred[-1])]\n",
    "        tag = results.names[int(pred[-1])]\n",
    "        tag = tag.replace(' ', '')\n",
    "        tags.add(tag)\n",
    "        \n",
    "    if 'tennisracket' in tags:\n",
    "        #print('T')\n",
    "        page = 'ch_ copy.html'\n",
    "            \n",
    "    else:\n",
    "        #print('F')\n",
    "        page = 'ch_ copy 2.html'\n",
    "        \n",
    "    db_data[img_path] = list(tags)\n",
    "    \n",
    "    \n",
    "    \n",
    "    return render_template(page, photos=db_data)\n",
    "\n",
    "if __name__ == '__main__':\n",
    "    app.run(debug=False)"
   ]
  },
  {
   "cell_type": "code",
   "execution_count": null,
   "metadata": {},
   "outputs": [],
   "source": []
  },
  {
   "cell_type": "code",
   "execution_count": null,
   "metadata": {
    "scrolled": true
   },
   "outputs": [
    {
     "name": "stdout",
     "output_type": "stream",
     "text": [
      "__main__\n",
      " * Serving Flask app '__main__' (lazy loading)\n",
      " * Environment: production\n",
      "\u001b[31m   WARNING: This is a development server. Do not use it in a production deployment.\u001b[0m\n",
      "\u001b[2m   Use a production WSGI server instead.\u001b[0m\n",
      " * Debug mode: off\n"
     ]
    },
    {
     "name": "stderr",
     "output_type": "stream",
     "text": [
      " * Running on http://127.0.0.1:5000/ (Press CTRL+C to quit)\n",
      "C:\\Users\\bigdata02\\anaconda3\\envs\\yoloV5\\lib\\site-packages\\numpy\\_distributor_init.py:32: UserWarning: loaded more than 1 DLL from .libs:\n",
      "C:\\Users\\bigdata02\\anaconda3\\envs\\yoloV5\\lib\\site-packages\\numpy\\.libs\\libopenblas.PYQHXLVVQ7VESDPUVUADXEVJOBGHJPAY.gfortran-win_amd64.dll\n",
      "C:\\Users\\bigdata02\\anaconda3\\envs\\yoloV5\\lib\\site-packages\\numpy\\.libs\\libopenblas.WCDJNK7YVMPZQ2ME2ZZHJJRJ3JIKNDB7.gfortran-win_amd64.dll\n",
      "  stacklevel=1)\n"
     ]
    },
    {
     "name": "stdout",
     "output_type": "stream",
     "text": [
      "DB 연결 성공\n",
      "[{'sub_seq': 105, 'sub_img': 'd3ac2d91-d34b-45c1-9be9-93171a12a7ee_book.jpg'}]\n",
      "DB 연결 닫기 성공\n"
     ]
    },
    {
     "name": "stderr",
     "output_type": "stream",
     "text": [
      "Using cache found in C:\\Users\\bigdata02/.cache\\torch\\hub\\ultralytics_yolov5_master\n",
      "YOLOv5  2021-10-8 torch 1.9.1 CUDA:0 (GeForce RTX 2070, 8192.0MB)\n",
      "\n",
      "Fusing layers... \n",
      "Model Summary: 213 layers, 7225885 parameters, 0 gradients, 16.5 GFLOPs\n",
      "Adding AutoShape... \n"
     ]
    },
    {
     "name": "stdout",
     "output_type": "stream",
     "text": [
      "static/photos/d3ac2d91-d34b-45c1-9be9-93171a12a7ee_book.jpg\n"
     ]
    },
    {
     "name": "stderr",
     "output_type": "stream",
     "text": [
      "Saved 1 image to \u001b[1mC:\\Users\\bigdata02\\anaconda3\\envs\\yoloV5\\Flask\\static\\detect\u001b[0m\n"
     ]
    },
    {
     "name": "stdout",
     "output_type": "stream",
     "text": [
      "True\n",
      "test\n",
      "C:\\Users\\bigdata02\\anaconda3\\envs\\yoloV5\\Flask\\static\\detect\\image54.jpg\n",
      "54\n",
      "105\n"
     ]
    },
    {
     "name": "stderr",
     "output_type": "stream",
     "text": [
      "127.0.0.1 - - [08/Nov/2021 13:28:19] \"GET /tospring HTTP/1.1\" 200 -\n",
      "127.0.0.1 - - [08/Nov/2021 13:28:19] \"GET /tospring HTTP/1.1\" 200 -\n"
     ]
    },
    {
     "name": "stdout",
     "output_type": "stream",
     "text": [
      "DB 연결 성공\n",
      "DB 연결 닫기 성공\n"
     ]
    }
   ],
   "source": [
    "from flask import Flask, render_template, request\n",
    "from flask_cors import CORS\n",
    "import urllib.request\n",
    "import pymysql\n",
    "import os\n",
    "app = Flask(__name__)\n",
    "CORS(app)\n",
    "print(__name__)\n",
    "global page\n",
    "global tags\n",
    "mbid = None\n",
    "mcseq = None\n",
    "seq = 0\n",
    "\n",
    "\n",
    "\n",
    "def select():\n",
    "    db = None\n",
    "\n",
    "    try:\n",
    "        db = pymysql.connect(\n",
    "            host='project-db-stu.ddns.net',\n",
    "            port=3307,\n",
    "            user='com',\n",
    "            passwd='12345',\n",
    "            db='campus_E_3_1022',\n",
    "            charset='utf8'\n",
    "        )\n",
    "        print('DB 연결 성공')\n",
    "\n",
    "        with db.cursor(pymysql.cursors.DictCursor) as cursor:\n",
    "            sql = \"\"\"\n",
    "                select sub_seq, sub_img from submissions\n",
    "                ORDER BY sub_seq DESC LIMIT 1;\n",
    "            \"\"\"\n",
    "            cursor.execute(sql)\n",
    "            db_results = cursor.fetchall()\n",
    "        print(db_results)\n",
    "\n",
    "    except Exception as e:\n",
    "        print(e)\n",
    "        \n",
    "    finally:\n",
    "        if db is not None: # db가 연결된 경우에만 접속 닫기 시도\n",
    "            db.close()\n",
    "        print('DB 연결 닫기 성공')\n",
    "    \n",
    "    return db_results\n",
    "\n",
    "\n",
    "def update(seq):\n",
    "    db = None\n",
    "\n",
    "    try:\n",
    "        db = pymysql.connect(\n",
    "            host='project-db-stu.ddns.net',\n",
    "            port=3307,\n",
    "            user='com',\n",
    "            passwd='12345',\n",
    "            db='campus_E_3_1022',\n",
    "            charset='utf8'\n",
    "        )\n",
    "        print('DB 연결 성공')\n",
    "\n",
    "        with db.cursor(pymysql.cursors.DictCursor) as cursor:\n",
    "            sql = \"\"\"\n",
    "                update submissions set sub_result = 1\n",
    "                where sub_seq = {};\n",
    "            \"\"\".format(seq)\n",
    "            \n",
    "            cursor.execute(sql)\n",
    "            db.commit()\n",
    "\n",
    "    except Exception as e:\n",
    "        print(e)\n",
    "        \n",
    "    finally:\n",
    "        if db is not None: # db가 연결된 경우에만 접속 닫기 시도\n",
    "            db.close()\n",
    "        print('DB 연결 닫기 성공')\n",
    "\n",
    "\n",
    "@app.route(\"/tospring\")\n",
    "def spring():\n",
    "    \n",
    "    import cv2\n",
    "    import torch\n",
    "    db_results = select()\n",
    "    seq = db_results[0][\"sub_seq\"]\n",
    "    model = torch.hub.load('ultralytics/yolov5', 'yolov5s')\n",
    "\n",
    "    img_path = 'static/photos/'+db_results[0][\"sub_img\"]\n",
    "    print(img_path)\n",
    "\n",
    "    results = model(img_path)\n",
    "\n",
    "    db_data = {}\n",
    "    \n",
    "    \n",
    " #     cv2.imwrite('C:\\\\Users\\\\bigdata02\\\\anaconda3\\\\envs\\\\yoloV5\\\\Flask\\\\static\\\\detect\\\\result.jpg',array[0])\n",
    "    results.save('C:\\\\Users\\\\bigdata02\\\\anaconda3\\\\envs\\\\yoloV5\\\\Flask\\\\static\\\\detect\\\\')\n",
    "#     changeName(,)   \n",
    "    cnt=0\n",
    "    path=\"C:\\\\Users\\\\bigdata02\\\\anaconda3\\\\envs\\\\yoloV5\\\\Flask\\\\static\\\\detect\\\\image.jpg\"\n",
    "    print(os.path.exists(path))\n",
    "    try:\n",
    "        print(\"test\")\n",
    "        while(os.path.exists(path)):\n",
    "            cnt+=1\n",
    "            path='C:\\\\Users\\\\bigdata02\\\\anaconda3\\\\envs\\\\yoloV5\\\\Flask\\\\static\\\\detect\\\\image'+str(cnt)+'.jpg'\n",
    "        print(path)\n",
    "        print(cnt)\n",
    "        os.rename('C:\\\\Users\\\\bigdata02\\\\anaconda3\\\\envs\\\\yoloV5\\\\Flask\\\\static\\\\detect\\\\image.jpg',path)\n",
    "    except:\n",
    "        print(\"a\")\n",
    "  \n",
    "    fn = db_results[0][\"sub_img\"].split('.')\n",
    "    fn[-1]=\"jpg\"\n",
    "    fn = \".\".join(fn)\n",
    "    os.rename('C:\\\\Users\\\\bigdata02\\\\anaconda3\\\\envs\\\\yoloV5\\\\Flask\\\\static\\\\detect\\\\'+fn,'C:\\\\Users\\\\bigdata02\\\\anaconda3\\\\envs\\\\yoloV5\\\\Flask\\\\static\\\\detect\\\\image.jpg')\n",
    "    tags = set()\n",
    "    \n",
    "    for pred in results.pred[0]:\n",
    "        #tag = tags_ko[int(pred[-1])]\n",
    "        tag = results.names[int(pred[-1])]\n",
    "        tag = tag.replace(' ', '')\n",
    "        tags.add(tag)\n",
    "        \n",
    "    if 'tennisracket' in tags:\n",
    "        page = 'ch_ copy.html'\n",
    "        print(seq)\n",
    "        update(seq)\n",
    "        \n",
    "    elif 'apple' in tags:\n",
    "        page = 'ch_ copy.html'\n",
    "        print(seq)\n",
    "        update(seq)\n",
    "        \n",
    "    elif 'book' in tags:\n",
    "        page = 'ch_ copy.html'\n",
    "        print(seq)\n",
    "        update(seq)\n",
    "        \n",
    "    elif 'bicycle' in tags:\n",
    "        page = 'ch_ copy.html'\n",
    "        print(seq)\n",
    "        update(seq)\n",
    "        \n",
    "    elif 'baseball glove' in tags:\n",
    "        page = 'ch_ copy.html'\n",
    "        print(seq)\n",
    "        update(seq)\n",
    "        \n",
    "    elif 'baseball bat' in tags:\n",
    "        page = 'ch_ copy.html'\n",
    "        print(seq)\n",
    "        update(seq)\n",
    "        \n",
    "    else:\n",
    "        page = 'ch_ copy 2.html'\n",
    "        \n",
    "    db_data[img_path] = list(tags)\n",
    "    \n",
    "    \n",
    "    return render_template(page, photos=db_data)\n",
    "\n",
    "if __name__ == '__main__':\n",
    "    app.run(debug=False)"
   ]
  },
  {
   "cell_type": "code",
   "execution_count": 6,
   "metadata": {},
   "outputs": [
    {
     "data": {
      "text/plain": [
       "'a.b.jpg'"
      ]
     },
     "execution_count": 6,
     "metadata": {},
     "output_type": "execute_result"
    }
   ],
   "source": [
    "v = \"a.b.c\".split('.')\n",
    "v[-1]=\"jpg\"\n",
    "\".\".join(v)"
   ]
  },
  {
   "cell_type": "code",
   "execution_count": 41,
   "metadata": {},
   "outputs": [],
   "source": [
    "def update(seq):\n",
    "    db = None\n",
    "\n",
    "    try:\n",
    "        db = pymysql.connect(\n",
    "            host='project-db-stu.ddns.net',\n",
    "            port=3307,\n",
    "            user='com',\n",
    "            passwd='12345',\n",
    "            db='campus_E_3_1022',\n",
    "            charset='utf8'\n",
    "        )\n",
    "        print('DB 연결 성공')\n",
    "\n",
    "        with db.cursor(pymysql.cursors.DictCursor) as cursor:\n",
    "            sql = \"\"\"\n",
    "                update submissions set sub_result = 1\n",
    "                where sub_seq = {};\n",
    "            \"\"\".format(seq)\n",
    "            \n",
    "            cursor.execute(sql)\n",
    "            db.commit()\n",
    "\n",
    "    except Exception as e:\n",
    "        print(e)\n",
    "        \n",
    "    finally:\n",
    "        if db is not None: # db가 연결된 경우에만 접속 닫기 시도\n",
    "            db.close()\n",
    "        print('DB 연결 닫기 성공')"
   ]
  },
  {
   "cell_type": "code",
   "execution_count": 42,
   "metadata": {},
   "outputs": [
    {
     "name": "stdout",
     "output_type": "stream",
     "text": [
      "DB 연결 성공\n",
      "DB 연결 닫기 성공\n"
     ]
    }
   ],
   "source": [
    "update(55)"
   ]
  },
  {
   "cell_type": "code",
   "execution_count": null,
   "metadata": {},
   "outputs": [],
   "source": [
    "with db.cursor(pymysql.cursors.DictCursor) as cursor:\n",
    "        sql = \"\"\"\n",
    "            INSERT INTO submissions(mc_seq, mb_id, sub_result, sub_img)\n",
    "            VALUES(1, , 1, );\n",
    "        \"\"\"\n",
    "        cursor.execute(sql)\n",
    "        db_results = cursor.fetchall()\n",
    "    print(db_results)"
   ]
  },
  {
   "cell_type": "code",
   "execution_count": 59,
   "metadata": {},
   "outputs": [
    {
     "name": "stdout",
     "output_type": "stream",
     "text": [
      "a\n"
     ]
    },
    {
     "ename": "FileExistsError",
     "evalue": "[WinError 183] 파일이 이미 있으므로 만들 수 없습니다: 'C:\\\\Users\\\\bigdata02\\\\anaconda3\\\\envs\\\\yoloV5\\\\Flask\\\\static\\\\detect\\\\b5b78830-9a04-4777-977b-203934643989_1607084875483contents_02.jpg' -> 'C:\\\\Users\\\\bigdata02\\\\anaconda3\\\\envs\\\\yoloV5\\\\Flask\\\\static\\\\detect\\\\image1.jpg'",
     "output_type": "error",
     "traceback": [
      "\u001b[1;31m---------------------------------------------------------------------------\u001b[0m",
      "\u001b[1;31mFileExistsError\u001b[0m                           Traceback (most recent call last)",
      "\u001b[1;32m<ipython-input-59-8b05c141a532>\u001b[0m in \u001b[0;36m<module>\u001b[1;34m\u001b[0m\n\u001b[0;32m     10\u001b[0m     \u001b[0mprint\u001b[0m\u001b[1;33m(\u001b[0m\u001b[1;34m\"a\"\u001b[0m\u001b[1;33m)\u001b[0m\u001b[1;33m\u001b[0m\u001b[1;33m\u001b[0m\u001b[0m\n\u001b[0;32m     11\u001b[0m \u001b[1;33m\u001b[0m\u001b[0m\n\u001b[1;32m---> 12\u001b[1;33m \u001b[0mos\u001b[0m\u001b[1;33m.\u001b[0m\u001b[0mrename\u001b[0m\u001b[1;33m(\u001b[0m\u001b[1;34m'C:\\\\Users\\\\bigdata02\\\\anaconda3\\\\envs\\\\yoloV5\\\\Flask\\\\static\\\\detect\\\\'\u001b[0m\u001b[1;33m+\u001b[0m\u001b[1;34m'b5b78830-9a04-4777-977b-203934643989_1607084875483contents_02.jpg'\u001b[0m\u001b[1;33m,\u001b[0m\u001b[1;34m'C:\\\\Users\\\\bigdata02\\\\anaconda3\\\\envs\\\\yoloV5\\\\Flask\\\\static\\\\detect\\\\image1.jpg'\u001b[0m\u001b[1;33m)\u001b[0m\u001b[1;33m\u001b[0m\u001b[1;33m\u001b[0m\u001b[0m\n\u001b[0m",
      "\u001b[1;31mFileExistsError\u001b[0m: [WinError 183] 파일이 이미 있으므로 만들 수 없습니다: 'C:\\\\Users\\\\bigdata02\\\\anaconda3\\\\envs\\\\yoloV5\\\\Flask\\\\static\\\\detect\\\\b5b78830-9a04-4777-977b-203934643989_1607084875483contents_02.jpg' -> 'C:\\\\Users\\\\bigdata02\\\\anaconda3\\\\envs\\\\yoloV5\\\\Flask\\\\static\\\\detect\\\\image1.jpg'"
     ]
    }
   ],
   "source": [
    "path = 'C:\\\\Users\\\\bigdata02\\\\anaconda3\\\\envs\\\\yoloV5\\\\Flask\\\\static\\\\detect\\\\image1.jpg'\n",
    "\n",
    "try:\n",
    "    while(os.path.exists(path)):\n",
    "        cnt=1\n",
    "        re_path = 'C:\\\\Users\\\\bigdata02\\\\anaconda3\\\\envs\\\\yoloV5\\\\Flask\\\\static\\\\detect\\\\image{}.jpg'.format(cnt)\n",
    "        os.rename(path, re_path)\n",
    "        cnt += 1\n",
    "except:\n",
    "    print(\"a\")\n",
    "    \n",
    "os.rename('C:\\\\Users\\\\bigdata02\\\\anaconda3\\\\envs\\\\yoloV5\\\\Flask\\\\static\\\\detect\\\\'+'b5b78830-9a04-4777-977b-203934643989_1607084875483contents_02.jpg','C:\\\\Users\\\\bigdata02\\\\anaconda3\\\\envs\\\\yoloV5\\\\Flask\\\\static\\\\detect\\\\image1.jpg')"
   ]
  },
  {
   "cell_type": "code",
   "execution_count": null,
   "metadata": {},
   "outputs": [],
   "source": [
    "try:\n",
    "        while(os.path.exists(path)):\n",
    "            cnt+=1\n",
    "            path='C:\\\\Users\\\\bigdata02\\\\anaconda3\\\\envs\\\\yoloV5\\\\Flask\\\\static\\\\detect\\\\image{}.jpg'.cnt\n",
    "        \n",
    "        os.rename('C:\\\\Users\\\\bigdata02\\\\anaconda3\\\\envs\\\\yoloV5\\\\Flask\\\\static\\\\detect\\\\image.jpg','C:\\\\Users\\\\bigdata02\\\\anaconda3\\\\envs\\\\yoloV5\\\\Flask\\\\static\\\\detect\\\\image{}.jpg'.cnt)\n",
    "    except:\n",
    "        print(\"a\")\n",
    "  \n",
    "    print(db_results[0][\"sub_img\"])\n",
    "    os.rename('C:\\\\Users\\\\bigdata02\\\\anaconda3\\\\envs\\\\yoloV5\\\\Flask\\\\static\\\\detect\\\\'+db_results[0][\"sub_img\"],'C:\\\\Users\\\\bigdata02\\\\anaconda3\\\\envs\\\\yoloV5\\\\Flask\\\\static\\\\detect\\\\image.jpg')"
   ]
  },
  {
   "cell_type": "code",
   "execution_count": 3,
   "metadata": {},
   "outputs": [
    {
     "name": "stderr",
     "output_type": "stream",
     "text": [
      "Using cache found in C:\\Users\\bigdata02/.cache\\torch\\hub\\ultralytics_yolov5_master\n",
      "YOLOv5  2021-10-8 torch 1.9.1 CUDA:0 (GeForce RTX 2070, 8192.0MB)\n",
      "\n",
      "Fusing layers... \n",
      "Model Summary: 213 layers, 7225885 parameters, 0 gradients, 16.5 GFLOPs\n",
      "Adding AutoShape... \n"
     ]
    }
   ],
   "source": [
    "import cv2\n",
    "from flask import Flask, render_template, request\n",
    "import torch\n",
    "model = torch.hub.load('ultralytics/yolov5', 'yolov5s')\n",
    "\n",
    "img_path = 'static/photos/image.jpg'\n",
    "\n",
    "results = model(img_path)"
   ]
  },
  {
   "cell_type": "code",
   "execution_count": 5,
   "metadata": {},
   "outputs": [],
   "source": [
    "results.show()"
   ]
  },
  {
   "cell_type": "code",
   "execution_count": null,
   "metadata": {},
   "outputs": [],
   "source": [
    "# Classes\n",
    "nc: 80  # number of classes\n",
    "names: ['person', 'bicycle', 'car', 'motorcycle', 'airplane', 'bus', 'train', 'truck', 'boat', 'traffic light',\n",
    "        'fire hydrant', 'stop sign', 'parking meter', 'bench', 'bird', 'cat', 'dog', 'horse', 'sheep', 'cow',\n",
    "        'elephant', 'bear', 'zebra', 'giraffe', 'backpack', 'umbrella', 'handbag', 'tie', 'suitcase', 'frisbee',\n",
    "        'skis', 'snowboard', 'sports ball', 'kite', 'baseball bat', 'baseball glove', 'skateboard', 'surfboard',\n",
    "        'tennis racket', 'bottle', 'wine glass', 'cup', 'fork', 'knife', 'spoon', 'bowl', 'banana', 'apple',\n",
    "        'sandwich', 'orange', 'broccoli', 'carrot', 'hot dog', 'pizza', 'donut', 'cake', 'chair', 'couch',\n",
    "        'potted plant', 'bed', 'dining table', 'toilet', 'tv', 'laptop', 'mouse', 'remote', 'keyboard', 'cell phone',\n",
    "        'microwave', 'oven', 'toaster', 'sink', 'refrigerator', 'book', 'clock', 'vase', 'scissors', 'teddy bear',\n",
    "        'hair drier', 'toothbrush']  # class names"
   ]
  },
  {
   "cell_type": "code",
   "execution_count": 29,
   "metadata": {},
   "outputs": [
    {
     "name": "stdout",
     "output_type": "stream",
     "text": [
      "DB 연결 성공\n",
      "[{'sub_seq': 2, 'sub_img': '12_123.jpg'}]\n"
     ]
    }
   ],
   "source": [
    "db = None\n",
    "\n",
    "try:\n",
    "    db = pymysql.connect(\n",
    "        host='project-db-stu.ddns.net',\n",
    "        port=3307,\n",
    "        user='com',\n",
    "        passwd='12345',\n",
    "        db='campus_E_3_1022',\n",
    "        charset='utf8'\n",
    "    )\n",
    "    print('DB 연결 성공')\n",
    "\n",
    "    with db.cursor(pymysql.cursors.DictCursor) as cursor:\n",
    "        sql = \"\"\"\n",
    "            select sub_seq, sub_img from submissions\n",
    "            ORDER BY sub_seq DESC LIMIT 1;\n",
    "        \"\"\"\n",
    "        cursor.execute(sql)\n",
    "        db_results = cursor.fetchall()\n",
    "    print(db_results)\n",
    "\n",
    "except Exception as e:\n",
    "    print(e)"
   ]
  },
  {
   "cell_type": "code",
   "execution_count": 37,
   "metadata": {},
   "outputs": [
    {
     "data": {
      "text/plain": [
       "'12_123.jpg'"
      ]
     },
     "execution_count": 37,
     "metadata": {},
     "output_type": "execute_result"
    }
   ],
   "source": [
    "db_results[0][\"sub_img\"]"
   ]
  },
  {
   "cell_type": "code",
   "execution_count": null,
   "metadata": {},
   "outputs": [],
   "source": []
  }
 ],
 "metadata": {
  "kernelspec": {
   "display_name": "YK",
   "language": "python",
   "name": "yolov5"
  },
  "language_info": {
   "codemirror_mode": {
    "name": "ipython",
    "version": 3
   },
   "file_extension": ".py",
   "mimetype": "text/x-python",
   "name": "python",
   "nbconvert_exporter": "python",
   "pygments_lexer": "ipython3",
   "version": "3.6.13"
  }
 },
 "nbformat": 4,
 "nbformat_minor": 4
}
